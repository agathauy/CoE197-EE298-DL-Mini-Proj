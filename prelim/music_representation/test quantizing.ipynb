{
 "cells": [
  {
   "cell_type": "code",
   "execution_count": 4,
   "metadata": {},
   "outputs": [],
   "source": [
    "%load_ext autoreload\n",
    "%autoreload 2"
   ]
  },
  {
   "cell_type": "code",
   "execution_count": 5,
   "metadata": {},
   "outputs": [],
   "source": [
    "\n",
    "import pretty_midi\n",
    "import matplotlib.pyplot as plt\n",
    "import os\n",
    "from lib.midi_util import midi_to_array_one_hot, stylify\n",
    "import lib.file_util\n",
    "from mido import MidiFile\n",
    "from random import shuffle\n"
   ]
  },
  {
   "cell_type": "code",
   "execution_count": 6,
   "metadata": {},
   "outputs": [
    {
     "name": "stdout",
     "output_type": "stream",
     "text": [
      "Processing BTS - Boy With Luv (DJS137).mid\n",
      "\tSaving /home/agatha/Documents/EE298z/miniproj-2/prelim/music_representation/data/preprocessed/single_piano/midi_bts.1_valid/BTS - Boy With Luv (DJS137).mid\n",
      "Processing BTS - DOPE (DJS137).mid\n",
      "\tSaving /home/agatha/Documents/EE298z/miniproj-2/prelim/music_representation/data/preprocessed/single_piano/midi_bts.1_valid/BTS - DOPE (DJS137).mid\n",
      "Processing BTS - Not Today (DJS137).mid\n",
      "\tSaving /home/agatha/Documents/EE298z/miniproj-2/prelim/music_representation/data/preprocessed/single_piano/midi_bts.1_valid/BTS - Not Today (DJS137).mid\n",
      "Processing BTS - I NEED U (DJS 137).mid\n",
      "\tSaving /home/agatha/Documents/EE298z/miniproj-2/prelim/music_representation/data/preprocessed/single_piano/midi_bts.1_valid/BTS - I NEED U (DJS 137).mid\n",
      "\n",
      "Processed 4 files out of 4\n"
     ]
    }
   ],
   "source": [
    "lib.file_util.validate_data(\"/home/agatha/Documents/EE298z/miniproj-2/prelim/music_representation/data/preprocessed/single_piano/midi_bts.1\",4)\n"
   ]
  },
  {
   "cell_type": "code",
   "execution_count": 7,
   "metadata": {},
   "outputs": [
    {
     "name": "stdout",
     "output_type": "stream",
     "text": [
      "Saving /home/agatha/Documents/EE298z/miniproj-2/prelim/music_representation/data/preprocessed/single_piano/midi_bts.1_quantized/BTS - Boy With Luv (DJS137).mid\n",
      "Saving /home/agatha/Documents/EE298z/miniproj-2/prelim/music_representation/data/preprocessed/single_piano/midi_bts.1_quantized/BTS - DOPE (DJS137).mid\n",
      "Saving /home/agatha/Documents/EE298z/miniproj-2/prelim/music_representation/data/preprocessed/single_piano/midi_bts.1_quantized/BTS - Not Today (DJS137).mid\n",
      "Saving /home/agatha/Documents/EE298z/miniproj-2/prelim/music_representation/data/preprocessed/single_piano/midi_bts.1_quantized/BTS - I NEED U (DJS 137).mid\n",
      "Processed 4 files out of 4\n"
     ]
    }
   ],
   "source": [
    "lib.file_util.quantize_data(\"/home/agatha/Documents/EE298z/miniproj-2/prelim/music_representation/data/preprocessed/single_piano/midi_bts.1\",4)\n"
   ]
  },
  {
   "cell_type": "code",
   "execution_count": 10,
   "metadata": {},
   "outputs": [
    {
     "name": "stdout",
     "output_type": "stream",
     "text": [
      "Processing BTS - Boy With Luv (DJS137).mid\n",
      "Saving /home/agatha/Documents/EE298z/miniproj-2/prelim/music_representation/data/preprocessed/single_piano/midi_bts.1_inputs/BTS - Boy With Luv (DJS137).mid.npy\n",
      "Processing BTS - DOPE (DJS137).mid\n",
      "Out of bounds\n",
      "Processing BTS - Not Today (DJS137).mid\n",
      "Out of bounds\n",
      "Processing BTS - I NEED U (DJS 137).mid\n",
      "Warning: truncating from position 1024.0 to 1023\n",
      "Warning: truncating from position 1024.0 to 1023\n",
      "Warning: truncating from position 1024.0 to 1023\n",
      "Warning: truncating from position 1024.0 to 1023\n",
      "Warning: truncating from position 1024.0 to 1023\n",
      "Warning: truncating from position 1024.0 to 1023\n",
      "Warning: truncating from position 1024.0 to 1023\n",
      "Warning: truncating from position 1024.0 to 1023\n",
      "Saving /home/agatha/Documents/EE298z/miniproj-2/prelim/music_representation/data/preprocessed/single_piano/midi_bts.1_inputs/BTS - I NEED U (DJS 137).mid.npy\n",
      "\n",
      "Processed 2 files out of 4\n"
     ]
    }
   ],
   "source": [
    "lib.file_util.save_data(\"/home/agatha/Documents/EE298z/miniproj-2/prelim/music_representation/data/preprocessed/single_piano/midi_bts.1\", 4, one_hot=True)"
   ]
  },
  {
   "cell_type": "code",
   "execution_count": null,
   "metadata": {},
   "outputs": [],
   "source": []
  },
  {
   "cell_type": "code",
   "execution_count": 24,
   "metadata": {},
   "outputs": [
    {
     "name": "stdout",
     "output_type": "stream",
     "text": [
      "[1 2]\n",
      "(2,)\n",
      "[1, 2]\n"
     ]
    }
   ],
   "source": [
    "import numpy as np\n",
    "pattern = [1, 0, 0, 1]\n",
    "pattern = [0,0, 0,0]\n",
    "pattern = [0,1, 3,0]\n",
    "\n",
    "pattern = np.array(pattern)\n",
    "np_pattern = np.where(pattern != 0)[0]\n",
    "print(np_pattern)\n",
    "print(np_pattern.shape)\n",
    "\n",
    "print(np_pattern.tolist())"
   ]
  },
  {
   "cell_type": "code",
   "execution_count": 25,
   "metadata": {},
   "outputs": [
    {
     "data": {
      "text/plain": [
       "0"
      ]
     },
     "execution_count": 25,
     "metadata": {},
     "output_type": "execute_result"
    }
   ],
   "source": [
    "0%3"
   ]
  },
  {
   "cell_type": "code",
   "execution_count": 26,
   "metadata": {},
   "outputs": [
    {
     "data": {
      "text/plain": [
       "0"
      ]
     },
     "execution_count": 26,
     "metadata": {},
     "output_type": "execute_result"
    }
   ],
   "source": [
    "3%3"
   ]
  },
  {
   "cell_type": "code",
   "execution_count": 27,
   "metadata": {},
   "outputs": [
    {
     "data": {
      "text/plain": [
       "0"
      ]
     },
     "execution_count": 27,
     "metadata": {},
     "output_type": "execute_result"
    }
   ],
   "source": [
    "2%2"
   ]
  },
  {
   "cell_type": "code",
   "execution_count": 28,
   "metadata": {},
   "outputs": [
    {
     "data": {
      "text/plain": [
       "1"
      ]
     },
     "execution_count": 28,
     "metadata": {},
     "output_type": "execute_result"
    }
   ],
   "source": [
    "4%3\n"
   ]
  },
  {
   "cell_type": "code",
   "execution_count": 29,
   "metadata": {},
   "outputs": [
    {
     "data": {
      "text/plain": [
       "2"
      ]
     },
     "execution_count": 29,
     "metadata": {},
     "output_type": "execute_result"
    }
   ],
   "source": [
    "2%3"
   ]
  },
  {
   "cell_type": "code",
   "execution_count": 30,
   "metadata": {},
   "outputs": [
    {
     "data": {
      "text/plain": [
       "array([0, 1, 3, 0])"
      ]
     },
     "execution_count": 30,
     "metadata": {},
     "output_type": "execute_result"
    }
   ],
   "source": [
    "pattern\n"
   ]
  },
  {
   "cell_type": "code",
   "execution_count": 32,
   "metadata": {},
   "outputs": [],
   "source": [
    "test = pattern.tolist()\n",
    "if not 1 in test:\n",
    "    print('not 2 in test')"
   ]
  },
  {
   "cell_type": "code",
   "execution_count": null,
   "metadata": {},
   "outputs": [],
   "source": []
  }
 ],
 "metadata": {
  "kernelspec": {
   "display_name": "Python 3",
   "language": "python",
   "name": "python3"
  },
  "language_info": {
   "codemirror_mode": {
    "name": "ipython",
    "version": 3
   },
   "file_extension": ".py",
   "mimetype": "text/x-python",
   "name": "python",
   "nbconvert_exporter": "python",
   "pygments_lexer": "ipython3",
   "version": "3.6.8"
  }
 },
 "nbformat": 4,
 "nbformat_minor": 2
}
