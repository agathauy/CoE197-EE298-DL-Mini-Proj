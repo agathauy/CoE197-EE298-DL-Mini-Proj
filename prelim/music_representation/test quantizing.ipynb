{
 "cells": [
  {
   "cell_type": "code",
   "execution_count": 4,
   "metadata": {},
   "outputs": [],
   "source": [
    "%load_ext autoreload\n",
    "%autoreload 2"
   ]
  },
  {
   "cell_type": "code",
   "execution_count": 5,
   "metadata": {},
   "outputs": [],
   "source": [
    "\n",
    "import pretty_midi\n",
    "import matplotlib.pyplot as plt\n",
    "import os\n",
    "from lib.midi_util import midi_to_array_one_hot, stylify\n",
    "import lib.file_util\n",
    "from mido import MidiFile\n",
    "from random import shuffle\n"
   ]
  },
  {
   "cell_type": "code",
   "execution_count": 6,
   "metadata": {},
   "outputs": [
    {
     "name": "stdout",
     "output_type": "stream",
     "text": [
      "Processing BTS - Boy With Luv (DJS137).mid\n",
      "\tSaving /home/agatha/Documents/EE298z/miniproj-2/prelim/music_representation/data/preprocessed/single_piano/midi_bts.1_valid/BTS - Boy With Luv (DJS137).mid\n",
      "Processing BTS - DOPE (DJS137).mid\n",
      "\tSaving /home/agatha/Documents/EE298z/miniproj-2/prelim/music_representation/data/preprocessed/single_piano/midi_bts.1_valid/BTS - DOPE (DJS137).mid\n",
      "Processing BTS - Not Today (DJS137).mid\n",
      "\tSaving /home/agatha/Documents/EE298z/miniproj-2/prelim/music_representation/data/preprocessed/single_piano/midi_bts.1_valid/BTS - Not Today (DJS137).mid\n",
      "Processing BTS - I NEED U (DJS 137).mid\n",
      "\tSaving /home/agatha/Documents/EE298z/miniproj-2/prelim/music_representation/data/preprocessed/single_piano/midi_bts.1_valid/BTS - I NEED U (DJS 137).mid\n",
      "\n",
      "Processed 4 files out of 4\n"
     ]
    }
   ],
   "source": [
    "lib.file_util.validate_data(\"/home/agatha/Documents/EE298z/miniproj-2/prelim/music_representation/data/preprocessed/single_piano/midi_bts.1\",4)\n"
   ]
  },
  {
   "cell_type": "code",
   "execution_count": 7,
   "metadata": {},
   "outputs": [
    {
     "name": "stdout",
     "output_type": "stream",
     "text": [
      "Saving /home/agatha/Documents/EE298z/miniproj-2/prelim/music_representation/data/preprocessed/single_piano/midi_bts.1_quantized/BTS - Boy With Luv (DJS137).mid\n",
      "Saving /home/agatha/Documents/EE298z/miniproj-2/prelim/music_representation/data/preprocessed/single_piano/midi_bts.1_quantized/BTS - DOPE (DJS137).mid\n",
      "Saving /home/agatha/Documents/EE298z/miniproj-2/prelim/music_representation/data/preprocessed/single_piano/midi_bts.1_quantized/BTS - Not Today (DJS137).mid\n",
      "Saving /home/agatha/Documents/EE298z/miniproj-2/prelim/music_representation/data/preprocessed/single_piano/midi_bts.1_quantized/BTS - I NEED U (DJS 137).mid\n",
      "Processed 4 files out of 4\n"
     ]
    }
   ],
   "source": [
    "lib.file_util.quantize_data(\"/home/agatha/Documents/EE298z/miniproj-2/prelim/music_representation/data/preprocessed/single_piano/midi_bts.1\",4)\n"
   ]
  },
  {
   "cell_type": "code",
   "execution_count": 10,
   "metadata": {},
   "outputs": [
    {
     "name": "stdout",
     "output_type": "stream",
     "text": [
      "Processing BTS - Boy With Luv (DJS137).mid\n",
      "Saving /home/agatha/Documents/EE298z/miniproj-2/prelim/music_representation/data/preprocessed/single_piano/midi_bts.1_inputs/BTS - Boy With Luv (DJS137).mid.npy\n",
      "Processing BTS - DOPE (DJS137).mid\n",
      "Out of bounds\n",
      "Processing BTS - Not Today (DJS137).mid\n",
      "Out of bounds\n",
      "Processing BTS - I NEED U (DJS 137).mid\n",
      "Warning: truncating from position 1024.0 to 1023\n",
      "Warning: truncating from position 1024.0 to 1023\n",
      "Warning: truncating from position 1024.0 to 1023\n",
      "Warning: truncating from position 1024.0 to 1023\n",
      "Warning: truncating from position 1024.0 to 1023\n",
      "Warning: truncating from position 1024.0 to 1023\n",
      "Warning: truncating from position 1024.0 to 1023\n",
      "Warning: truncating from position 1024.0 to 1023\n",
      "Saving /home/agatha/Documents/EE298z/miniproj-2/prelim/music_representation/data/preprocessed/single_piano/midi_bts.1_inputs/BTS - I NEED U (DJS 137).mid.npy\n",
      "\n",
      "Processed 2 files out of 4\n"
     ]
    }
   ],
   "source": [
    "lib.file_util.save_data(\"/home/agatha/Documents/EE298z/miniproj-2/prelim/music_representation/data/preprocessed/single_piano/midi_bts.1\", 4, one_hot=True)"
   ]
  },
  {
   "cell_type": "code",
   "execution_count": null,
   "metadata": {},
   "outputs": [],
   "source": []
  }
 ],
 "metadata": {
  "kernelspec": {
   "display_name": "Python 3",
   "language": "python",
   "name": "python3"
  },
  "language_info": {
   "codemirror_mode": {
    "name": "ipython",
    "version": 3
   },
   "file_extension": ".py",
   "mimetype": "text/x-python",
   "name": "python",
   "nbconvert_exporter": "python",
   "pygments_lexer": "ipython3",
   "version": "3.6.8"
  }
 },
 "nbformat": 4,
 "nbformat_minor": 2
}
